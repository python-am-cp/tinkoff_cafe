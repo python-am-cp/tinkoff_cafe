{
 "cells": [
  {
   "cell_type": "code",
   "execution_count": 2,
   "metadata": {},
   "outputs": [],
   "source": [
    "import numpy as np\n",
    "from matplotlib import pyplot as plt\n",
    "import pandas as pd\n",
    "%config IPCompleter.greedy = True"
   ]
  },
  {
   "cell_type": "code",
   "execution_count": 3,
   "metadata": {},
   "outputs": [
    {
     "name": "stdout",
     "output_type": "stream",
     "text": [
      "<class 'pandas.core.frame.DataFrame'>\n",
      "RangeIndex: 919985 entries, 0 to 919984\n",
      "Data columns (total 6 columns):\n",
      "chknum       919985 non-null object\n",
      "person_id    919985 non-null int64\n",
      "month        919985 non-null int64\n",
      "day          919985 non-null int64\n",
      "good         919985 non-null object\n",
      "good_id      919985 non-null int64\n",
      "dtypes: int64(4), object(2)\n",
      "memory usage: 42.1+ MB\n"
     ]
    }
   ],
   "source": [
    "data = pd.read_csv('data/train.csv')\n",
    "data.info()"
   ]
  },
  {
   "cell_type": "code",
   "execution_count": 9,
   "metadata": {
    "scrolled": false
   },
   "outputs": [
    {
     "name": "stdout",
     "output_type": "stream",
     "text": [
      "Салат бар 1кг\n",
      "Салат бар/доп.ассортимент 1кг\n",
      "100\n"
     ]
    }
   ],
   "source": [
    "goods = list(data['good'].unique())\n",
    "c = 0\n",
    "for i in goods:\n",
    "    if 'Салат' in i:\n",
    "        print(i)\n",
    "        c += 1\n",
    "    if 'С-т' in i:\n",
    "#         print(i)\n",
    "        c += 1\n",
    "print(c)"
   ]
  },
  {
   "cell_type": "code",
   "execution_count": 8,
   "metadata": {
    "scrolled": true
   },
   "outputs": [
    {
     "data": {
      "text/plain": [
       "good_id  good                                    \n",
       "0        Баклажаны гриль/с.йогуртовый 150/20гр              NaN\n",
       "1        Капуста с овощами 150гр                            NaN\n",
       "2        Напиток из ягод с/м 200гр                   917.802895\n",
       "3        Хлеб 1 кусочек                              929.860025\n",
       "4        Ланч бокс маленький 1шт                     865.829088\n",
       "5        Гречка отварная 150гр                       934.660167\n",
       "6        Суп гороховый/постный 250гр                 962.075188\n",
       "7        Винегрет Петровский 120гр                   927.487805\n",
       "8        Салат бар 1кг                               937.334662\n",
       "9        Брокколи/морковь/гриле 150гр                925.516129\n",
       "10       Суп-пюре томатный/сыр 250гр                 945.516441\n",
       "11       Свинина/помидор/перец 75/75гр                      NaN\n",
       "12       Грибовница со взбитыми яйцами 250гр         925.279279\n",
       "13       Булочка с сыром 60гр                        929.400000\n",
       "14       Напиток из разных фруктов 200гр             963.228099\n",
       "15       Лазанья грибная 200гр                       951.566176\n",
       "16       Пирожок Слойка/мясо                         975.290061\n",
       "17       Морковь по-тайски 120гр                            NaN\n",
       "18       Напиток Яблоневый сад 200гр                 959.892958\n",
       "19       Картофельное пюре 150гр                     939.383073\n",
       "20       Говядина с ананас/перец 75/75гр                    NaN\n",
       "21       Запеканка картоф/мясо 200гр                        NaN\n",
       "22       С-т из кур/картоф/перец/майонез 120гр              NaN\n",
       "23       Морс Таежный 200гр                          903.442899\n",
       "24       Компот из св.груш/ягоды с/м 200гр                  NaN\n",
       "25       Суп из индейки/кр.чечевица 250гр            948.498299\n",
       "26       Язык отварной 75гр                                 NaN\n",
       "27       Солянка рыбная 250гр                        933.014706\n",
       "28       С-т Оливье по-Старорусски/майонез 120гр     935.113636\n",
       "29       Картофель с розмарином 150гр                923.230769\n",
       "                                                        ...    \n",
       "515      Лаваш с мясом/с.сальса 200гр                       NaN\n",
       "517      Винегрет с сельдью 120гр                           NaN\n",
       "518      Борщ холодный 250гр                                NaN\n",
       "520      Фрикадельки по-итальянски 100/40гр                 NaN\n",
       "522      Помидоры по-грузински/рыба 120гр                   NaN\n",
       "524      С-т из говяд/ростки сои/заправка 120гр             NaN\n",
       "527      Рагу летнее/овощи 200гр                            NaN\n",
       "528      Жаркое из свинины/грибы 200гр                      NaN\n",
       "530      Жаркое по-домашнему/курица 200гр                   NaN\n",
       "531      Морковь/груша 120гр                                NaN\n",
       "532      С-т из редиса/з.из брынзы 120гр                    NaN\n",
       "537      Суп фасолевый/кур/петрушка 250гр                   NaN\n",
       "538      Суп огуречный/йогурт/базилик 250гр                 NaN\n",
       "540      С-т из говяд/цуккини/майонез 120гр                 NaN\n",
       "542      С-т из щавеля/карт.черри/огур/яйцо 120гр           NaN\n",
       "545      Жаркое из индейки/булгур 200гр                     NaN\n",
       "547      Щи зеленые/мясо/холодные 250гр                     NaN\n",
       "548      Морковь/курага 120гр                               NaN\n",
       "550      Рулет куриный/фрукты/сыр 100гр                     NaN\n",
       "552      Грибы марин/лук/ароматное масло 120гр              NaN\n",
       "554      Говядина туш/квас 80/20гр                          NaN\n",
       "555      Ватрушка картофельная/фета/порей/ти200гр           NaN\n",
       "556      Рыба жар/розмарина/лайм 80/20гр                    NaN\n",
       "557      Шашлык из свинины 80гр                             NaN\n",
       "558      Огурцы малосольные 120гр                           NaN\n",
       "560      Рыба по-провански 80/30гр                          NaN\n",
       "561      Говядина с цуккини/баклаж/с.тайск75/50г            NaN\n",
       "564      Жаркое по-домашнему/свинина 200гр                  NaN\n",
       "565      Свекла/с.зеленый 120 гр                            NaN\n",
       "566      Бананы очищенные 1кг СБ                            NaN\n",
       "Name: 1, Length: 480, dtype: float64"
      ]
     },
     "execution_count": 8,
     "metadata": {},
     "output_type": "execute_result"
    }
   ],
   "source": [
    "pd.pivot_table(data, values='person_id', index=['good_id', 'good'], columns=['month']).loc[:, 1]"
   ]
  },
  {
   "cell_type": "code",
   "execution_count": 27,
   "metadata": {
    "scrolled": false
   },
   "outputs": [],
   "source": [
    "values = data.stack().unstack(0)[4:].stack().unstack(0).get_values()\n",
    "menu = pd.read_csv('data/menu.csv')\n",
    "values2 = menu.stack().unstack(0)[2:].stack().unstack(0).get_values()\n",
    "# print(values)"
   ]
  },
  {
   "cell_type": "code",
   "execution_count": 39,
   "metadata": {
    "scrolled": true
   },
   "outputs": [
    {
     "name": "stdout",
     "output_type": "stream",
     "text": [
      "576\n"
     ]
    }
   ],
   "source": [
    "our_menu = {}\n",
    "for (i, j) in values:\n",
    "    our_menu[j] = i\n",
    "for (i, j) in values2:\n",
    "    our_menu[j] = i\n",
    "#     print(i, j)\n",
    "# print(len(our_menu), our_menu)\n",
    "s = sorted([(i, j) for i, j in our_menu.items()])\n",
    "our_data = pd.DataFrame(s, columns=['good_id', 'good'])\n",
    "print(len(s))\n",
    "our_data.head()\n",
    "our_data.to_csv('blank_menu.csv', encoding='utf-8', index=False)"
   ]
  },
  {
   "cell_type": "code",
   "execution_count": null,
   "metadata": {},
   "outputs": [],
   "source": []
  }
 ],
 "metadata": {
  "kernelspec": {
   "display_name": "Python 3",
   "language": "python",
   "name": "python3"
  },
  "language_info": {
   "codemirror_mode": {
    "name": "ipython",
    "version": 3
   },
   "file_extension": ".py",
   "mimetype": "text/x-python",
   "name": "python",
   "nbconvert_exporter": "python",
   "pygments_lexer": "ipython3",
   "version": "3.7.3"
  }
 },
 "nbformat": 4,
 "nbformat_minor": 2
}
